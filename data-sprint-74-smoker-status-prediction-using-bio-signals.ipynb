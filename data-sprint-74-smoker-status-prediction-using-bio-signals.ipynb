{
 "cells": [
  {
   "cell_type": "markdown",
   "metadata": {
    "id": "D7Z4eNQDH3Ad"
   },
   "source": [
    "Author: Cyrille Mesue N.\n",
    "\n",
    "\n",
    "![dphi banner](https://dphi-courses.s3.ap-south-1.amazonaws.com/Datathons/dphi_banner.png)"
   ]
  },
  {
   "cell_type": "markdown",
   "metadata": {
    "id": "XozdDc7LITew"
   },
   "source": [
    "# Loading Libraries\n"
   ]
  },
  {
   "cell_type": "code",
   "execution_count": 8,
   "metadata": {
    "id": "ubn_Wdf4HyzZ"
   },
   "outputs": [],
   "source": [
    "import pandas as pd\n",
    "import numpy as np\n",
    "from sklearn.preprocessing import LabelEncoder, StandardScaler\n",
    "from sklearn.tree import DecisionTreeClassifier\n",
    "from sklearn.model_selection import cross_val_score, StratifiedKFold\n",
    "from sklearn.model_selection import train_test_split\n",
    "from sklearn.pipeline import Pipeline, make_pipeline\n",
    "from sklearn.feature_extraction import DictVectorizer\n",
    "from sklearn.decomposition import PCA\n",
    "from sklearn.svm import LinearSVC, SVC\n",
    "from sklearn.linear_model import LogisticRegression\n",
    "from sklearn.model_selection import GridSearchCV\n",
    "from sklearn.feature_selection import VarianceThreshold\n",
    "import seaborn as sns\n",
    "import matplotlib.pyplot as plt\n",
    "import warnings\n",
    "warnings.filterwarnings('ignore')\n",
    "import sklearn"
   ]
  },
  {
   "cell_type": "code",
   "execution_count": 11,
   "metadata": {},
   "outputs": [
    {
     "name": "stdout",
     "output_type": "stream",
     "text": [
      "0.11.2\n"
     ]
    }
   ],
   "source": [
    "print(sns.__version__)"
   ]
  },
  {
   "cell_type": "markdown",
   "metadata": {
    "id": "VIAGI5xtI1B3"
   },
   "source": [
    "# Loading Dataset\n",
    "Pandas module is used for reading files.\n",
    "\n",
    "You can learn more about pandas [here](https://dphi.tech/learn/introduction-to-pandas)"
   ]
  },
  {
   "cell_type": "code",
   "execution_count": 2,
   "metadata": {
    "id": "oUMd-8bBIQoG"
   },
   "outputs": [],
   "source": [
    "df = pd.read_csv(r\"train_dataset.csv\")"
   ]
  },
  {
   "cell_type": "markdown",
   "metadata": {
    "id": "2oky8OqKJgUe"
   },
   "source": [
    "## What do you need to do now?\n",
    "*  Perform EDA and Data Visualization, to understand the data. Learn more about EDA [here](https://dphi.tech/learn/introduction-to-exploratory-data-analysis). Learn more about data visualization [here](https://dphi.tech/learn/introduction-to-data-visualization)\n",
    "*  Clean the data if required (like removing or filling missing values, treat outliers, etc.). Learn more about handling missing values [here](https://youtu.be/EaGbS7eWSs0)\n",
    "*  Perform Data Preprocessing if you feel it's required. Learn one hot encoding [here](https://youtu.be/9yl6-HEY7_s)."
   ]
  },
  {
   "cell_type": "markdown",
   "metadata": {
    "id": "DyEKd-EEJ47p"
   },
   "source": [
    "# **Basic EDA**"
   ]
  },
  {
   "cell_type": "code",
   "execution_count": 3,
   "metadata": {
    "colab": {
     "base_uri": "https://localhost:8080/",
     "height": 317
    },
    "id": "CA5SIP8JJ2Vp",
    "outputId": "d4babc34-d149-47cf-ffc3-def3749becfa"
   },
   "outputs": [
    {
     "data": {
      "text/html": [
       "<div>\n",
       "<style scoped>\n",
       "    .dataframe tbody tr th:only-of-type {\n",
       "        vertical-align: middle;\n",
       "    }\n",
       "\n",
       "    .dataframe tbody tr th {\n",
       "        vertical-align: top;\n",
       "    }\n",
       "\n",
       "    .dataframe thead th {\n",
       "        text-align: right;\n",
       "    }\n",
       "</style>\n",
       "<table border=\"1\" class=\"dataframe\">\n",
       "  <thead>\n",
       "    <tr style=\"text-align: right;\">\n",
       "      <th></th>\n",
       "      <th>age</th>\n",
       "      <th>height(cm)</th>\n",
       "      <th>weight(kg)</th>\n",
       "      <th>waist(cm)</th>\n",
       "      <th>eyesight(left)</th>\n",
       "      <th>eyesight(right)</th>\n",
       "      <th>hearing(left)</th>\n",
       "      <th>hearing(right)</th>\n",
       "      <th>systolic</th>\n",
       "      <th>relaxation</th>\n",
       "      <th>...</th>\n",
       "      <th>HDL</th>\n",
       "      <th>LDL</th>\n",
       "      <th>hemoglobin</th>\n",
       "      <th>Urine protein</th>\n",
       "      <th>serum creatinine</th>\n",
       "      <th>AST</th>\n",
       "      <th>ALT</th>\n",
       "      <th>Gtp</th>\n",
       "      <th>dental caries</th>\n",
       "      <th>smoking</th>\n",
       "    </tr>\n",
       "  </thead>\n",
       "  <tbody>\n",
       "    <tr>\n",
       "      <th>0</th>\n",
       "      <td>35</td>\n",
       "      <td>170</td>\n",
       "      <td>85</td>\n",
       "      <td>97.0</td>\n",
       "      <td>0.9</td>\n",
       "      <td>0.9</td>\n",
       "      <td>1</td>\n",
       "      <td>1</td>\n",
       "      <td>118</td>\n",
       "      <td>78</td>\n",
       "      <td>...</td>\n",
       "      <td>70</td>\n",
       "      <td>142</td>\n",
       "      <td>19.8</td>\n",
       "      <td>1</td>\n",
       "      <td>1.0</td>\n",
       "      <td>61</td>\n",
       "      <td>115</td>\n",
       "      <td>125</td>\n",
       "      <td>1</td>\n",
       "      <td>1</td>\n",
       "    </tr>\n",
       "    <tr>\n",
       "      <th>1</th>\n",
       "      <td>20</td>\n",
       "      <td>175</td>\n",
       "      <td>110</td>\n",
       "      <td>110.0</td>\n",
       "      <td>0.7</td>\n",
       "      <td>0.9</td>\n",
       "      <td>1</td>\n",
       "      <td>1</td>\n",
       "      <td>119</td>\n",
       "      <td>79</td>\n",
       "      <td>...</td>\n",
       "      <td>71</td>\n",
       "      <td>114</td>\n",
       "      <td>15.9</td>\n",
       "      <td>1</td>\n",
       "      <td>1.1</td>\n",
       "      <td>19</td>\n",
       "      <td>25</td>\n",
       "      <td>30</td>\n",
       "      <td>1</td>\n",
       "      <td>0</td>\n",
       "    </tr>\n",
       "    <tr>\n",
       "      <th>2</th>\n",
       "      <td>45</td>\n",
       "      <td>155</td>\n",
       "      <td>65</td>\n",
       "      <td>86.0</td>\n",
       "      <td>0.9</td>\n",
       "      <td>0.9</td>\n",
       "      <td>1</td>\n",
       "      <td>1</td>\n",
       "      <td>110</td>\n",
       "      <td>80</td>\n",
       "      <td>...</td>\n",
       "      <td>57</td>\n",
       "      <td>112</td>\n",
       "      <td>13.7</td>\n",
       "      <td>3</td>\n",
       "      <td>0.6</td>\n",
       "      <td>1090</td>\n",
       "      <td>1400</td>\n",
       "      <td>276</td>\n",
       "      <td>0</td>\n",
       "      <td>0</td>\n",
       "    </tr>\n",
       "    <tr>\n",
       "      <th>3</th>\n",
       "      <td>45</td>\n",
       "      <td>165</td>\n",
       "      <td>80</td>\n",
       "      <td>94.0</td>\n",
       "      <td>0.8</td>\n",
       "      <td>0.7</td>\n",
       "      <td>1</td>\n",
       "      <td>1</td>\n",
       "      <td>158</td>\n",
       "      <td>88</td>\n",
       "      <td>...</td>\n",
       "      <td>46</td>\n",
       "      <td>91</td>\n",
       "      <td>16.9</td>\n",
       "      <td>1</td>\n",
       "      <td>0.9</td>\n",
       "      <td>32</td>\n",
       "      <td>36</td>\n",
       "      <td>36</td>\n",
       "      <td>0</td>\n",
       "      <td>0</td>\n",
       "    </tr>\n",
       "    <tr>\n",
       "      <th>4</th>\n",
       "      <td>20</td>\n",
       "      <td>165</td>\n",
       "      <td>60</td>\n",
       "      <td>81.0</td>\n",
       "      <td>1.5</td>\n",
       "      <td>0.1</td>\n",
       "      <td>1</td>\n",
       "      <td>1</td>\n",
       "      <td>109</td>\n",
       "      <td>64</td>\n",
       "      <td>...</td>\n",
       "      <td>47</td>\n",
       "      <td>92</td>\n",
       "      <td>14.9</td>\n",
       "      <td>1</td>\n",
       "      <td>1.2</td>\n",
       "      <td>26</td>\n",
       "      <td>28</td>\n",
       "      <td>15</td>\n",
       "      <td>0</td>\n",
       "      <td>0</td>\n",
       "    </tr>\n",
       "  </tbody>\n",
       "</table>\n",
       "<p>5 rows × 23 columns</p>\n",
       "</div>"
      ],
      "text/plain": [
       "   age  height(cm)  weight(kg)  waist(cm)  eyesight(left)  eyesight(right)  \\\n",
       "0   35         170          85       97.0             0.9              0.9   \n",
       "1   20         175         110      110.0             0.7              0.9   \n",
       "2   45         155          65       86.0             0.9              0.9   \n",
       "3   45         165          80       94.0             0.8              0.7   \n",
       "4   20         165          60       81.0             1.5              0.1   \n",
       "\n",
       "   hearing(left)  hearing(right)  systolic  relaxation  ...  HDL  LDL  \\\n",
       "0              1               1       118          78  ...   70  142   \n",
       "1              1               1       119          79  ...   71  114   \n",
       "2              1               1       110          80  ...   57  112   \n",
       "3              1               1       158          88  ...   46   91   \n",
       "4              1               1       109          64  ...   47   92   \n",
       "\n",
       "   hemoglobin  Urine protein  serum creatinine   AST   ALT  Gtp  \\\n",
       "0        19.8              1               1.0    61   115  125   \n",
       "1        15.9              1               1.1    19    25   30   \n",
       "2        13.7              3               0.6  1090  1400  276   \n",
       "3        16.9              1               0.9    32    36   36   \n",
       "4        14.9              1               1.2    26    28   15   \n",
       "\n",
       "   dental caries  smoking  \n",
       "0              1        1  \n",
       "1              1        0  \n",
       "2              0        0  \n",
       "3              0        0  \n",
       "4              0        0  \n",
       "\n",
       "[5 rows x 23 columns]"
      ]
     },
     "execution_count": 3,
     "metadata": {},
     "output_type": "execute_result"
    }
   ],
   "source": [
    "df.head()"
   ]
  },
  {
   "cell_type": "code",
   "execution_count": 4,
   "metadata": {
    "colab": {
     "base_uri": "https://localhost:8080/"
    },
    "id": "_qNCfd73Jp7E",
    "outputId": "9fe640db-a16f-4f01-f93a-92bfead09c0e"
   },
   "outputs": [
    {
     "data": {
      "text/plain": [
       "(38984, 23)"
      ]
     },
     "execution_count": 4,
     "metadata": {},
     "output_type": "execute_result"
    }
   ],
   "source": [
    "df.shape"
   ]
  },
  {
   "cell_type": "markdown",
   "metadata": {},
   "source": [
    "##### Observations\n",
    "The training dataset contains 38984 samples and 23 features. "
   ]
  },
  {
   "cell_type": "code",
   "execution_count": 5,
   "metadata": {
    "colab": {
     "base_uri": "https://localhost:8080/",
     "height": 411
    },
    "id": "lMeTIbG3JmP6",
    "outputId": "22464cb7-c5a6-456e-d679-a28c417aa92f",
    "scrolled": true
   },
   "outputs": [
    {
     "data": {
      "text/html": [
       "<div>\n",
       "<style scoped>\n",
       "    .dataframe tbody tr th:only-of-type {\n",
       "        vertical-align: middle;\n",
       "    }\n",
       "\n",
       "    .dataframe tbody tr th {\n",
       "        vertical-align: top;\n",
       "    }\n",
       "\n",
       "    .dataframe thead th {\n",
       "        text-align: right;\n",
       "    }\n",
       "</style>\n",
       "<table border=\"1\" class=\"dataframe\">\n",
       "  <thead>\n",
       "    <tr style=\"text-align: right;\">\n",
       "      <th></th>\n",
       "      <th>age</th>\n",
       "      <th>height(cm)</th>\n",
       "      <th>weight(kg)</th>\n",
       "      <th>waist(cm)</th>\n",
       "      <th>eyesight(left)</th>\n",
       "      <th>eyesight(right)</th>\n",
       "      <th>hearing(left)</th>\n",
       "      <th>hearing(right)</th>\n",
       "      <th>systolic</th>\n",
       "      <th>relaxation</th>\n",
       "      <th>...</th>\n",
       "      <th>HDL</th>\n",
       "      <th>LDL</th>\n",
       "      <th>hemoglobin</th>\n",
       "      <th>Urine protein</th>\n",
       "      <th>serum creatinine</th>\n",
       "      <th>AST</th>\n",
       "      <th>ALT</th>\n",
       "      <th>Gtp</th>\n",
       "      <th>dental caries</th>\n",
       "      <th>smoking</th>\n",
       "    </tr>\n",
       "  </thead>\n",
       "  <tbody>\n",
       "    <tr>\n",
       "      <th>count</th>\n",
       "      <td>14318.000000</td>\n",
       "      <td>14318.000000</td>\n",
       "      <td>14318.000000</td>\n",
       "      <td>14318.000000</td>\n",
       "      <td>14318.000000</td>\n",
       "      <td>14318.000000</td>\n",
       "      <td>14318.000000</td>\n",
       "      <td>14318.00000</td>\n",
       "      <td>14318.000000</td>\n",
       "      <td>14318.000000</td>\n",
       "      <td>...</td>\n",
       "      <td>14318.000000</td>\n",
       "      <td>14318.000000</td>\n",
       "      <td>14318.000000</td>\n",
       "      <td>14318.000000</td>\n",
       "      <td>14318.000000</td>\n",
       "      <td>14318.000000</td>\n",
       "      <td>14318.000000</td>\n",
       "      <td>14318.000000</td>\n",
       "      <td>14318.000000</td>\n",
       "      <td>14318.0</td>\n",
       "    </tr>\n",
       "    <tr>\n",
       "      <th>mean</th>\n",
       "      <td>41.494971</td>\n",
       "      <td>169.444406</td>\n",
       "      <td>71.005727</td>\n",
       "      <td>84.796368</td>\n",
       "      <td>1.053827</td>\n",
       "      <td>1.050629</td>\n",
       "      <td>1.020813</td>\n",
       "      <td>1.02221</td>\n",
       "      <td>122.732295</td>\n",
       "      <td>77.308563</td>\n",
       "      <td>...</td>\n",
       "      <td>53.849071</td>\n",
       "      <td>112.738511</td>\n",
       "      <td>15.449176</td>\n",
       "      <td>1.093728</td>\n",
       "      <td>0.947556</td>\n",
       "      <td>27.779648</td>\n",
       "      <td>31.197723</td>\n",
       "      <td>55.576617</td>\n",
       "      <td>0.272384</td>\n",
       "      <td>1.0</td>\n",
       "    </tr>\n",
       "    <tr>\n",
       "      <th>std</th>\n",
       "      <td>11.381107</td>\n",
       "      <td>6.772144</td>\n",
       "      <td>12.097303</td>\n",
       "      <td>8.764296</td>\n",
       "      <td>0.475138</td>\n",
       "      <td>0.461258</td>\n",
       "      <td>0.142763</td>\n",
       "      <td>0.14737</td>\n",
       "      <td>13.067100</td>\n",
       "      <td>9.449752</td>\n",
       "      <td>...</td>\n",
       "      <td>13.707266</td>\n",
       "      <td>45.289706</td>\n",
       "      <td>1.126675</td>\n",
       "      <td>0.422049</td>\n",
       "      <td>0.186311</td>\n",
       "      <td>20.125290</td>\n",
       "      <td>30.521702</td>\n",
       "      <td>64.275746</td>\n",
       "      <td>0.445202</td>\n",
       "      <td>0.0</td>\n",
       "    </tr>\n",
       "    <tr>\n",
       "      <th>min</th>\n",
       "      <td>20.000000</td>\n",
       "      <td>140.000000</td>\n",
       "      <td>35.000000</td>\n",
       "      <td>51.000000</td>\n",
       "      <td>0.100000</td>\n",
       "      <td>0.100000</td>\n",
       "      <td>1.000000</td>\n",
       "      <td>1.00000</td>\n",
       "      <td>71.000000</td>\n",
       "      <td>46.000000</td>\n",
       "      <td>...</td>\n",
       "      <td>4.000000</td>\n",
       "      <td>1.000000</td>\n",
       "      <td>8.300000</td>\n",
       "      <td>1.000000</td>\n",
       "      <td>0.100000</td>\n",
       "      <td>8.000000</td>\n",
       "      <td>3.000000</td>\n",
       "      <td>7.000000</td>\n",
       "      <td>0.000000</td>\n",
       "      <td>1.0</td>\n",
       "    </tr>\n",
       "    <tr>\n",
       "      <th>25%</th>\n",
       "      <td>35.000000</td>\n",
       "      <td>165.000000</td>\n",
       "      <td>65.000000</td>\n",
       "      <td>79.000000</td>\n",
       "      <td>0.800000</td>\n",
       "      <td>0.800000</td>\n",
       "      <td>1.000000</td>\n",
       "      <td>1.00000</td>\n",
       "      <td>114.000000</td>\n",
       "      <td>70.000000</td>\n",
       "      <td>...</td>\n",
       "      <td>44.000000</td>\n",
       "      <td>89.000000</td>\n",
       "      <td>14.800000</td>\n",
       "      <td>1.000000</td>\n",
       "      <td>0.800000</td>\n",
       "      <td>20.000000</td>\n",
       "      <td>17.000000</td>\n",
       "      <td>24.000000</td>\n",
       "      <td>0.000000</td>\n",
       "      <td>1.0</td>\n",
       "    </tr>\n",
       "    <tr>\n",
       "      <th>50%</th>\n",
       "      <td>40.000000</td>\n",
       "      <td>170.000000</td>\n",
       "      <td>70.000000</td>\n",
       "      <td>84.300000</td>\n",
       "      <td>1.000000</td>\n",
       "      <td>1.000000</td>\n",
       "      <td>1.000000</td>\n",
       "      <td>1.00000</td>\n",
       "      <td>122.000000</td>\n",
       "      <td>78.000000</td>\n",
       "      <td>...</td>\n",
       "      <td>52.000000</td>\n",
       "      <td>111.000000</td>\n",
       "      <td>15.500000</td>\n",
       "      <td>1.000000</td>\n",
       "      <td>0.900000</td>\n",
       "      <td>24.000000</td>\n",
       "      <td>24.000000</td>\n",
       "      <td>37.000000</td>\n",
       "      <td>0.000000</td>\n",
       "      <td>1.0</td>\n",
       "    </tr>\n",
       "    <tr>\n",
       "      <th>75%</th>\n",
       "      <td>50.000000</td>\n",
       "      <td>175.000000</td>\n",
       "      <td>80.000000</td>\n",
       "      <td>90.000000</td>\n",
       "      <td>1.200000</td>\n",
       "      <td>1.200000</td>\n",
       "      <td>1.000000</td>\n",
       "      <td>1.00000</td>\n",
       "      <td>130.000000</td>\n",
       "      <td>83.000000</td>\n",
       "      <td>...</td>\n",
       "      <td>61.000000</td>\n",
       "      <td>134.000000</td>\n",
       "      <td>16.200000</td>\n",
       "      <td>1.000000</td>\n",
       "      <td>1.100000</td>\n",
       "      <td>30.000000</td>\n",
       "      <td>36.000000</td>\n",
       "      <td>62.000000</td>\n",
       "      <td>1.000000</td>\n",
       "      <td>1.0</td>\n",
       "    </tr>\n",
       "    <tr>\n",
       "      <th>max</th>\n",
       "      <td>85.000000</td>\n",
       "      <td>190.000000</td>\n",
       "      <td>135.000000</td>\n",
       "      <td>129.000000</td>\n",
       "      <td>9.900000</td>\n",
       "      <td>9.900000</td>\n",
       "      <td>2.000000</td>\n",
       "      <td>2.00000</td>\n",
       "      <td>233.000000</td>\n",
       "      <td>146.000000</td>\n",
       "      <td>...</td>\n",
       "      <td>159.000000</td>\n",
       "      <td>1860.000000</td>\n",
       "      <td>21.100000</td>\n",
       "      <td>6.000000</td>\n",
       "      <td>9.900000</td>\n",
       "      <td>981.000000</td>\n",
       "      <td>1783.000000</td>\n",
       "      <td>999.000000</td>\n",
       "      <td>1.000000</td>\n",
       "      <td>1.0</td>\n",
       "    </tr>\n",
       "  </tbody>\n",
       "</table>\n",
       "<p>8 rows × 23 columns</p>\n",
       "</div>"
      ],
      "text/plain": [
       "                age    height(cm)    weight(kg)     waist(cm)  eyesight(left)  \\\n",
       "count  14318.000000  14318.000000  14318.000000  14318.000000    14318.000000   \n",
       "mean      41.494971    169.444406     71.005727     84.796368        1.053827   \n",
       "std       11.381107      6.772144     12.097303      8.764296        0.475138   \n",
       "min       20.000000    140.000000     35.000000     51.000000        0.100000   \n",
       "25%       35.000000    165.000000     65.000000     79.000000        0.800000   \n",
       "50%       40.000000    170.000000     70.000000     84.300000        1.000000   \n",
       "75%       50.000000    175.000000     80.000000     90.000000        1.200000   \n",
       "max       85.000000    190.000000    135.000000    129.000000        9.900000   \n",
       "\n",
       "       eyesight(right)  hearing(left)  hearing(right)      systolic  \\\n",
       "count     14318.000000   14318.000000     14318.00000  14318.000000   \n",
       "mean          1.050629       1.020813         1.02221    122.732295   \n",
       "std           0.461258       0.142763         0.14737     13.067100   \n",
       "min           0.100000       1.000000         1.00000     71.000000   \n",
       "25%           0.800000       1.000000         1.00000    114.000000   \n",
       "50%           1.000000       1.000000         1.00000    122.000000   \n",
       "75%           1.200000       1.000000         1.00000    130.000000   \n",
       "max           9.900000       2.000000         2.00000    233.000000   \n",
       "\n",
       "         relaxation  ...           HDL           LDL    hemoglobin  \\\n",
       "count  14318.000000  ...  14318.000000  14318.000000  14318.000000   \n",
       "mean      77.308563  ...     53.849071    112.738511     15.449176   \n",
       "std        9.449752  ...     13.707266     45.289706      1.126675   \n",
       "min       46.000000  ...      4.000000      1.000000      8.300000   \n",
       "25%       70.000000  ...     44.000000     89.000000     14.800000   \n",
       "50%       78.000000  ...     52.000000    111.000000     15.500000   \n",
       "75%       83.000000  ...     61.000000    134.000000     16.200000   \n",
       "max      146.000000  ...    159.000000   1860.000000     21.100000   \n",
       "\n",
       "       Urine protein  serum creatinine           AST           ALT  \\\n",
       "count   14318.000000      14318.000000  14318.000000  14318.000000   \n",
       "mean        1.093728          0.947556     27.779648     31.197723   \n",
       "std         0.422049          0.186311     20.125290     30.521702   \n",
       "min         1.000000          0.100000      8.000000      3.000000   \n",
       "25%         1.000000          0.800000     20.000000     17.000000   \n",
       "50%         1.000000          0.900000     24.000000     24.000000   \n",
       "75%         1.000000          1.100000     30.000000     36.000000   \n",
       "max         6.000000          9.900000    981.000000   1783.000000   \n",
       "\n",
       "                Gtp  dental caries  smoking  \n",
       "count  14318.000000   14318.000000  14318.0  \n",
       "mean      55.576617       0.272384      1.0  \n",
       "std       64.275746       0.445202      0.0  \n",
       "min        7.000000       0.000000      1.0  \n",
       "25%       24.000000       0.000000      1.0  \n",
       "50%       37.000000       0.000000      1.0  \n",
       "75%       62.000000       1.000000      1.0  \n",
       "max      999.000000       1.000000      1.0  \n",
       "\n",
       "[8 rows x 23 columns]"
      ]
     },
     "execution_count": 5,
     "metadata": {},
     "output_type": "execute_result"
    }
   ],
   "source": [
    "status_yes = df[df[\"smoking\"]==1]\n",
    "status_yes.describe()\n",
    "#status_yes dataframe stores all the records where smoking status is 1\n"
   ]
  },
  {
   "cell_type": "code",
   "execution_count": 6,
   "metadata": {
    "scrolled": true
   },
   "outputs": [
    {
     "data": {
      "text/html": [
       "<div>\n",
       "<style scoped>\n",
       "    .dataframe tbody tr th:only-of-type {\n",
       "        vertical-align: middle;\n",
       "    }\n",
       "\n",
       "    .dataframe tbody tr th {\n",
       "        vertical-align: top;\n",
       "    }\n",
       "\n",
       "    .dataframe thead th {\n",
       "        text-align: right;\n",
       "    }\n",
       "</style>\n",
       "<table border=\"1\" class=\"dataframe\">\n",
       "  <thead>\n",
       "    <tr style=\"text-align: right;\">\n",
       "      <th></th>\n",
       "      <th>age</th>\n",
       "      <th>height(cm)</th>\n",
       "      <th>weight(kg)</th>\n",
       "      <th>waist(cm)</th>\n",
       "      <th>eyesight(left)</th>\n",
       "      <th>eyesight(right)</th>\n",
       "      <th>hearing(left)</th>\n",
       "      <th>hearing(right)</th>\n",
       "      <th>systolic</th>\n",
       "      <th>relaxation</th>\n",
       "      <th>...</th>\n",
       "      <th>HDL</th>\n",
       "      <th>LDL</th>\n",
       "      <th>hemoglobin</th>\n",
       "      <th>Urine protein</th>\n",
       "      <th>serum creatinine</th>\n",
       "      <th>AST</th>\n",
       "      <th>ALT</th>\n",
       "      <th>Gtp</th>\n",
       "      <th>dental caries</th>\n",
       "      <th>smoking</th>\n",
       "    </tr>\n",
       "  </thead>\n",
       "  <tbody>\n",
       "    <tr>\n",
       "      <th>count</th>\n",
       "      <td>24666.000000</td>\n",
       "      <td>24666.000000</td>\n",
       "      <td>24666.000000</td>\n",
       "      <td>24666.000000</td>\n",
       "      <td>24666.000000</td>\n",
       "      <td>24666.000000</td>\n",
       "      <td>24666.000000</td>\n",
       "      <td>24666.000000</td>\n",
       "      <td>24666.000000</td>\n",
       "      <td>24666.000000</td>\n",
       "      <td>...</td>\n",
       "      <td>24666.000000</td>\n",
       "      <td>24666.000000</td>\n",
       "      <td>24666.000000</td>\n",
       "      <td>24666.000000</td>\n",
       "      <td>24666.000000</td>\n",
       "      <td>24666.000000</td>\n",
       "      <td>24666.000000</td>\n",
       "      <td>24666.000000</td>\n",
       "      <td>24666.000000</td>\n",
       "      <td>24666.0</td>\n",
       "    </tr>\n",
       "    <tr>\n",
       "      <th>mean</th>\n",
       "      <td>45.655761</td>\n",
       "      <td>161.929376</td>\n",
       "      <td>62.997446</td>\n",
       "      <td>80.474949</td>\n",
       "      <td>0.992390</td>\n",
       "      <td>0.984468</td>\n",
       "      <td>1.028014</td>\n",
       "      <td>1.028501</td>\n",
       "      <td>120.746169</td>\n",
       "      <td>75.231574</td>\n",
       "      <td>...</td>\n",
       "      <td>59.292346</td>\n",
       "      <td>116.441539</td>\n",
       "      <td>14.145423</td>\n",
       "      <td>1.082340</td>\n",
       "      <td>0.850316</td>\n",
       "      <td>25.280264</td>\n",
       "      <td>24.792792</td>\n",
       "      <td>30.808076</td>\n",
       "      <td>0.180775</td>\n",
       "      <td>0.0</td>\n",
       "    </tr>\n",
       "    <tr>\n",
       "      <th>std</th>\n",
       "      <td>12.184586</td>\n",
       "      <td>9.276112</td>\n",
       "      <td>12.424528</td>\n",
       "      <td>9.275802</td>\n",
       "      <td>0.510267</td>\n",
       "      <td>0.510197</td>\n",
       "      <td>0.165017</td>\n",
       "      <td>0.166402</td>\n",
       "      <td>13.915510</td>\n",
       "      <td>9.696826</td>\n",
       "      <td>...</td>\n",
       "      <td>14.757293</td>\n",
       "      <td>41.362246</td>\n",
       "      <td>1.586635</td>\n",
       "      <td>0.390011</td>\n",
       "      <td>0.230884</td>\n",
       "      <td>18.540739</td>\n",
       "      <td>31.521032</td>\n",
       "      <td>35.771370</td>\n",
       "      <td>0.384840</td>\n",
       "      <td>0.0</td>\n",
       "    </tr>\n",
       "    <tr>\n",
       "      <th>min</th>\n",
       "      <td>20.000000</td>\n",
       "      <td>130.000000</td>\n",
       "      <td>30.000000</td>\n",
       "      <td>54.000000</td>\n",
       "      <td>0.100000</td>\n",
       "      <td>0.100000</td>\n",
       "      <td>1.000000</td>\n",
       "      <td>1.000000</td>\n",
       "      <td>72.000000</td>\n",
       "      <td>40.000000</td>\n",
       "      <td>...</td>\n",
       "      <td>22.000000</td>\n",
       "      <td>1.000000</td>\n",
       "      <td>4.900000</td>\n",
       "      <td>1.000000</td>\n",
       "      <td>0.100000</td>\n",
       "      <td>6.000000</td>\n",
       "      <td>1.000000</td>\n",
       "      <td>2.000000</td>\n",
       "      <td>0.000000</td>\n",
       "      <td>0.0</td>\n",
       "    </tr>\n",
       "    <tr>\n",
       "      <th>25%</th>\n",
       "      <td>40.000000</td>\n",
       "      <td>155.000000</td>\n",
       "      <td>55.000000</td>\n",
       "      <td>74.000000</td>\n",
       "      <td>0.800000</td>\n",
       "      <td>0.800000</td>\n",
       "      <td>1.000000</td>\n",
       "      <td>1.000000</td>\n",
       "      <td>110.000000</td>\n",
       "      <td>69.000000</td>\n",
       "      <td>...</td>\n",
       "      <td>49.000000</td>\n",
       "      <td>93.000000</td>\n",
       "      <td>13.100000</td>\n",
       "      <td>1.000000</td>\n",
       "      <td>0.700000</td>\n",
       "      <td>19.000000</td>\n",
       "      <td>14.000000</td>\n",
       "      <td>15.000000</td>\n",
       "      <td>0.000000</td>\n",
       "      <td>0.0</td>\n",
       "    </tr>\n",
       "    <tr>\n",
       "      <th>50%</th>\n",
       "      <td>45.000000</td>\n",
       "      <td>160.000000</td>\n",
       "      <td>60.000000</td>\n",
       "      <td>80.000000</td>\n",
       "      <td>1.000000</td>\n",
       "      <td>1.000000</td>\n",
       "      <td>1.000000</td>\n",
       "      <td>1.000000</td>\n",
       "      <td>120.000000</td>\n",
       "      <td>75.000000</td>\n",
       "      <td>...</td>\n",
       "      <td>58.000000</td>\n",
       "      <td>114.000000</td>\n",
       "      <td>14.200000</td>\n",
       "      <td>1.000000</td>\n",
       "      <td>0.800000</td>\n",
       "      <td>22.000000</td>\n",
       "      <td>19.000000</td>\n",
       "      <td>21.000000</td>\n",
       "      <td>0.000000</td>\n",
       "      <td>0.0</td>\n",
       "    </tr>\n",
       "    <tr>\n",
       "      <th>75%</th>\n",
       "      <td>55.000000</td>\n",
       "      <td>170.000000</td>\n",
       "      <td>70.000000</td>\n",
       "      <td>86.500000</td>\n",
       "      <td>1.200000</td>\n",
       "      <td>1.200000</td>\n",
       "      <td>1.000000</td>\n",
       "      <td>1.000000</td>\n",
       "      <td>130.000000</td>\n",
       "      <td>81.000000</td>\n",
       "      <td>...</td>\n",
       "      <td>68.000000</td>\n",
       "      <td>136.000000</td>\n",
       "      <td>15.300000</td>\n",
       "      <td>1.000000</td>\n",
       "      <td>1.000000</td>\n",
       "      <td>28.000000</td>\n",
       "      <td>28.000000</td>\n",
       "      <td>33.000000</td>\n",
       "      <td>0.000000</td>\n",
       "      <td>0.0</td>\n",
       "    </tr>\n",
       "    <tr>\n",
       "      <th>max</th>\n",
       "      <td>85.000000</td>\n",
       "      <td>190.000000</td>\n",
       "      <td>130.000000</td>\n",
       "      <td>128.000000</td>\n",
       "      <td>9.900000</td>\n",
       "      <td>9.900000</td>\n",
       "      <td>2.000000</td>\n",
       "      <td>2.000000</td>\n",
       "      <td>223.000000</td>\n",
       "      <td>137.000000</td>\n",
       "      <td>...</td>\n",
       "      <td>359.000000</td>\n",
       "      <td>1660.000000</td>\n",
       "      <td>19.600000</td>\n",
       "      <td>6.000000</td>\n",
       "      <td>11.600000</td>\n",
       "      <td>1090.000000</td>\n",
       "      <td>2914.000000</td>\n",
       "      <td>999.000000</td>\n",
       "      <td>1.000000</td>\n",
       "      <td>0.0</td>\n",
       "    </tr>\n",
       "  </tbody>\n",
       "</table>\n",
       "<p>8 rows × 23 columns</p>\n",
       "</div>"
      ],
      "text/plain": [
       "                age    height(cm)    weight(kg)     waist(cm)  eyesight(left)  \\\n",
       "count  24666.000000  24666.000000  24666.000000  24666.000000    24666.000000   \n",
       "mean      45.655761    161.929376     62.997446     80.474949        0.992390   \n",
       "std       12.184586      9.276112     12.424528      9.275802        0.510267   \n",
       "min       20.000000    130.000000     30.000000     54.000000        0.100000   \n",
       "25%       40.000000    155.000000     55.000000     74.000000        0.800000   \n",
       "50%       45.000000    160.000000     60.000000     80.000000        1.000000   \n",
       "75%       55.000000    170.000000     70.000000     86.500000        1.200000   \n",
       "max       85.000000    190.000000    130.000000    128.000000        9.900000   \n",
       "\n",
       "       eyesight(right)  hearing(left)  hearing(right)      systolic  \\\n",
       "count     24666.000000   24666.000000    24666.000000  24666.000000   \n",
       "mean          0.984468       1.028014        1.028501    120.746169   \n",
       "std           0.510197       0.165017        0.166402     13.915510   \n",
       "min           0.100000       1.000000        1.000000     72.000000   \n",
       "25%           0.800000       1.000000        1.000000    110.000000   \n",
       "50%           1.000000       1.000000        1.000000    120.000000   \n",
       "75%           1.200000       1.000000        1.000000    130.000000   \n",
       "max           9.900000       2.000000        2.000000    223.000000   \n",
       "\n",
       "         relaxation  ...           HDL           LDL    hemoglobin  \\\n",
       "count  24666.000000  ...  24666.000000  24666.000000  24666.000000   \n",
       "mean      75.231574  ...     59.292346    116.441539     14.145423   \n",
       "std        9.696826  ...     14.757293     41.362246      1.586635   \n",
       "min       40.000000  ...     22.000000      1.000000      4.900000   \n",
       "25%       69.000000  ...     49.000000     93.000000     13.100000   \n",
       "50%       75.000000  ...     58.000000    114.000000     14.200000   \n",
       "75%       81.000000  ...     68.000000    136.000000     15.300000   \n",
       "max      137.000000  ...    359.000000   1660.000000     19.600000   \n",
       "\n",
       "       Urine protein  serum creatinine           AST           ALT  \\\n",
       "count   24666.000000      24666.000000  24666.000000  24666.000000   \n",
       "mean        1.082340          0.850316     25.280264     24.792792   \n",
       "std         0.390011          0.230884     18.540739     31.521032   \n",
       "min         1.000000          0.100000      6.000000      1.000000   \n",
       "25%         1.000000          0.700000     19.000000     14.000000   \n",
       "50%         1.000000          0.800000     22.000000     19.000000   \n",
       "75%         1.000000          1.000000     28.000000     28.000000   \n",
       "max         6.000000         11.600000   1090.000000   2914.000000   \n",
       "\n",
       "                Gtp  dental caries  smoking  \n",
       "count  24666.000000   24666.000000  24666.0  \n",
       "mean      30.808076       0.180775      0.0  \n",
       "std       35.771370       0.384840      0.0  \n",
       "min        2.000000       0.000000      0.0  \n",
       "25%       15.000000       0.000000      0.0  \n",
       "50%       21.000000       0.000000      0.0  \n",
       "75%       33.000000       0.000000      0.0  \n",
       "max      999.000000       1.000000      0.0  \n",
       "\n",
       "[8 rows x 23 columns]"
      ]
     },
     "execution_count": 6,
     "metadata": {},
     "output_type": "execute_result"
    }
   ],
   "source": [
    "status_no = df[df[\"smoking\"]==0]\n",
    "status_no.describe()\n",
    "#status_no dataframe stores all the records where smoking status is 0"
   ]
  },
  {
   "cell_type": "code",
   "execution_count": 7,
   "metadata": {},
   "outputs": [
    {
     "data": {
      "text/html": [
       "<div>\n",
       "<style scoped>\n",
       "    .dataframe tbody tr th:only-of-type {\n",
       "        vertical-align: middle;\n",
       "    }\n",
       "\n",
       "    .dataframe tbody tr th {\n",
       "        vertical-align: top;\n",
       "    }\n",
       "\n",
       "    .dataframe thead th {\n",
       "        text-align: right;\n",
       "    }\n",
       "</style>\n",
       "<table border=\"1\" class=\"dataframe\">\n",
       "  <thead>\n",
       "    <tr style=\"text-align: right;\">\n",
       "      <th></th>\n",
       "      <th>mean_yes</th>\n",
       "      <th>mean_no</th>\n",
       "    </tr>\n",
       "  </thead>\n",
       "  <tbody>\n",
       "    <tr>\n",
       "      <th>age</th>\n",
       "      <td>41.494971</td>\n",
       "      <td>45.655761</td>\n",
       "    </tr>\n",
       "    <tr>\n",
       "      <th>height(cm)</th>\n",
       "      <td>169.444406</td>\n",
       "      <td>161.929376</td>\n",
       "    </tr>\n",
       "    <tr>\n",
       "      <th>weight(kg)</th>\n",
       "      <td>71.005727</td>\n",
       "      <td>62.997446</td>\n",
       "    </tr>\n",
       "    <tr>\n",
       "      <th>waist(cm)</th>\n",
       "      <td>84.796368</td>\n",
       "      <td>80.474949</td>\n",
       "    </tr>\n",
       "    <tr>\n",
       "      <th>eyesight(left)</th>\n",
       "      <td>1.053827</td>\n",
       "      <td>0.992390</td>\n",
       "    </tr>\n",
       "    <tr>\n",
       "      <th>eyesight(right)</th>\n",
       "      <td>1.050629</td>\n",
       "      <td>0.984468</td>\n",
       "    </tr>\n",
       "    <tr>\n",
       "      <th>hearing(left)</th>\n",
       "      <td>1.020813</td>\n",
       "      <td>1.028014</td>\n",
       "    </tr>\n",
       "    <tr>\n",
       "      <th>hearing(right)</th>\n",
       "      <td>1.022210</td>\n",
       "      <td>1.028501</td>\n",
       "    </tr>\n",
       "    <tr>\n",
       "      <th>systolic</th>\n",
       "      <td>122.732295</td>\n",
       "      <td>120.746169</td>\n",
       "    </tr>\n",
       "    <tr>\n",
       "      <th>relaxation</th>\n",
       "      <td>77.308563</td>\n",
       "      <td>75.231574</td>\n",
       "    </tr>\n",
       "    <tr>\n",
       "      <th>fasting blood sugar</th>\n",
       "      <td>102.049169</td>\n",
       "      <td>97.770980</td>\n",
       "    </tr>\n",
       "    <tr>\n",
       "      <th>Cholesterol</th>\n",
       "      <td>195.571658</td>\n",
       "      <td>197.644977</td>\n",
       "    </tr>\n",
       "    <tr>\n",
       "      <th>triglyceride</th>\n",
       "      <td>150.409624</td>\n",
       "      <td>113.015325</td>\n",
       "    </tr>\n",
       "    <tr>\n",
       "      <th>HDL</th>\n",
       "      <td>53.849071</td>\n",
       "      <td>59.292346</td>\n",
       "    </tr>\n",
       "    <tr>\n",
       "      <th>LDL</th>\n",
       "      <td>112.738511</td>\n",
       "      <td>116.441539</td>\n",
       "    </tr>\n",
       "    <tr>\n",
       "      <th>hemoglobin</th>\n",
       "      <td>15.449176</td>\n",
       "      <td>14.145423</td>\n",
       "    </tr>\n",
       "    <tr>\n",
       "      <th>Urine protein</th>\n",
       "      <td>1.093728</td>\n",
       "      <td>1.082340</td>\n",
       "    </tr>\n",
       "    <tr>\n",
       "      <th>serum creatinine</th>\n",
       "      <td>0.947556</td>\n",
       "      <td>0.850316</td>\n",
       "    </tr>\n",
       "    <tr>\n",
       "      <th>AST</th>\n",
       "      <td>27.779648</td>\n",
       "      <td>25.280264</td>\n",
       "    </tr>\n",
       "    <tr>\n",
       "      <th>ALT</th>\n",
       "      <td>31.197723</td>\n",
       "      <td>24.792792</td>\n",
       "    </tr>\n",
       "    <tr>\n",
       "      <th>Gtp</th>\n",
       "      <td>55.576617</td>\n",
       "      <td>30.808076</td>\n",
       "    </tr>\n",
       "    <tr>\n",
       "      <th>dental caries</th>\n",
       "      <td>0.272384</td>\n",
       "      <td>0.180775</td>\n",
       "    </tr>\n",
       "    <tr>\n",
       "      <th>smoking</th>\n",
       "      <td>1.000000</td>\n",
       "      <td>0.000000</td>\n",
       "    </tr>\n",
       "  </tbody>\n",
       "</table>\n",
       "</div>"
      ],
      "text/plain": [
       "                       mean_yes     mean_no\n",
       "age                   41.494971   45.655761\n",
       "height(cm)           169.444406  161.929376\n",
       "weight(kg)            71.005727   62.997446\n",
       "waist(cm)             84.796368   80.474949\n",
       "eyesight(left)         1.053827    0.992390\n",
       "eyesight(right)        1.050629    0.984468\n",
       "hearing(left)          1.020813    1.028014\n",
       "hearing(right)         1.022210    1.028501\n",
       "systolic             122.732295  120.746169\n",
       "relaxation            77.308563   75.231574\n",
       "fasting blood sugar  102.049169   97.770980\n",
       "Cholesterol          195.571658  197.644977\n",
       "triglyceride         150.409624  113.015325\n",
       "HDL                   53.849071   59.292346\n",
       "LDL                  112.738511  116.441539\n",
       "hemoglobin            15.449176   14.145423\n",
       "Urine protein          1.093728    1.082340\n",
       "serum creatinine       0.947556    0.850316\n",
       "AST                   27.779648   25.280264\n",
       "ALT                   31.197723   24.792792\n",
       "Gtp                   55.576617   30.808076\n",
       "dental caries          0.272384    0.180775\n",
       "smoking                1.000000    0.000000"
      ]
     },
     "execution_count": 7,
     "metadata": {},
     "output_type": "execute_result"
    }
   ],
   "source": [
    "mean_yes = status_yes.describe().loc[\"mean\"]\n",
    "mean_no = status_no.describe().loc[\"mean\"]\n",
    "mean_yes_df = pd.DataFrame(mean_yes).rename(columns={\"mean\":\"mean_yes\"})\n",
    "mean_no_df = pd.DataFrame(mean_no).rename(columns={\"mean\":\"mean_no\"})\n",
    "compare_means = pd.concat([mean_yes_df,mean_no_df], axis = 1)\n",
    "compare_means \n"
   ]
  },
  {
   "cell_type": "code",
   "execution_count": 8,
   "metadata": {},
   "outputs": [
    {
     "data": {
      "text/plain": [
       "<AxesSubplot:>"
      ]
     },
     "execution_count": 8,
     "metadata": {},
     "output_type": "execute_result"
    },
    {
     "data": {
      "image/png": "[encoded data removed]",
      "text/plain": [
       "<Figure size 432x288 with 1 Axes>"
      ]
     },
     "metadata": {
      "needs_background": "light"
     },
     "output_type": "display_data"
    }
   ],
   "source": [
    "compare_means.plot.bar()"
   ]
  },
  {
   "cell_type": "markdown",
   "metadata": {},
   "source": [
    "##### Observation\n",
    "* The mean across the two classes varies significant across some columns but very little on some columns. \n",
    "* Low variance features will be removed as they may contribute to model bias"
   ]
  },
  {
   "cell_type": "code",
   "execution_count": 9,
   "metadata": {},
   "outputs": [
    {
     "data": {
      "text/plain": [
       "[<matplotlib.lines.Line2D at 0x7f5cf8481310>]"
      ]
     },
     "execution_count": 9,
     "metadata": {},
     "output_type": "execute_result"
    },
    {
     "data": {
      "image/png": "[encoded data removed]",
      "text/plain": [
       "<Figure size 432x288 with 1 Axes>"
      ]
     },
     "metadata": {
      "needs_background": "light"
     },
     "output_type": "display_data"
    }
   ],
   "source": [
    "x = df.age\n",
    "plt.plot(sorted(x))"
   ]
  },
  {
   "cell_type": "markdown",
   "metadata": {},
   "source": [
    "##### Observation\n",
    "* The Data was selected in a non-linear fashion by age"
   ]
  },
  {
   "cell_type": "code",
   "execution_count": 10,
   "metadata": {
    "colab": {
     "base_uri": "https://localhost:8080/"
    },
    "id": "XOuIjfVNJi8z",
    "outputId": "244f9f26-af16-46af-8764-fe8d5166aa19"
   },
   "outputs": [
    {
     "name": "stdout",
     "output_type": "stream",
     "text": [
      "<class 'pandas.core.frame.DataFrame'>\n",
      "RangeIndex: 38984 entries, 0 to 38983\n",
      "Data columns (total 23 columns):\n",
      " #   Column               Non-Null Count  Dtype  \n",
      "---  ------               --------------  -----  \n",
      " 0   age                  38984 non-null  int64  \n",
      " 1   height(cm)           38984 non-null  int64  \n",
      " 2   weight(kg)           38984 non-null  int64  \n",
      " 3   waist(cm)            38984 non-null  float64\n",
      " 4   eyesight(left)       38984 non-null  float64\n",
      " 5   eyesight(right)      38984 non-null  float64\n",
      " 6   hearing(left)        38984 non-null  int64  \n",
      " 7   hearing(right)       38984 non-null  int64  \n",
      " 8   systolic             38984 non-null  int64  \n",
      " 9   relaxation           38984 non-null  int64  \n",
      " 10  fasting blood sugar  38984 non-null  int64  \n",
      " 11  Cholesterol          38984 non-null  int64  \n",
      " 12  triglyceride         38984 non-null  int64  \n",
      " 13  HDL                  38984 non-null  int64  \n",
      " 14  LDL                  38984 non-null  int64  \n",
      " 15  hemoglobin           38984 non-null  float64\n",
      " 16  Urine protein        38984 non-null  int64  \n",
      " 17  serum creatinine     38984 non-null  float64\n",
      " 18  AST                  38984 non-null  int64  \n",
      " 19  ALT                  38984 non-null  int64  \n",
      " 20  Gtp                  38984 non-null  int64  \n",
      " 21  dental caries        38984 non-null  int64  \n",
      " 22  smoking              38984 non-null  int64  \n",
      "dtypes: float64(5), int64(18)\n",
      "memory usage: 6.8 MB\n"
     ]
    }
   ],
   "source": [
    "df.info()"
   ]
  },
  {
   "cell_type": "markdown",
   "metadata": {},
   "source": [
    "##### Observation\n",
    "* All columns contain continuous flaoting point numbers (numerical) \n",
    "* All features may be used for machine learning"
   ]
  },
  {
   "cell_type": "code",
   "execution_count": 11,
   "metadata": {},
   "outputs": [],
   "source": [
    "###PAIRPLOTS\n",
    "#sns.set_style(\"whitegrid\")\n",
    "#sns.pairplot(df, hue=\"smoking\", height = 5)\n",
    "#plt.show()"
   ]
  },
  {
   "cell_type": "code",
   "execution_count": 12,
   "metadata": {
    "colab": {
     "base_uri": "https://localhost:8080/"
    },
    "id": "4lOdfmLLqT2m",
    "outputId": "0f4681e4-a077-4ea5-fea2-e48a074275c5",
    "scrolled": true
   },
   "outputs": [
    {
     "data": {
      "text/plain": [
       "age                    0\n",
       "height(cm)             0\n",
       "weight(kg)             0\n",
       "waist(cm)              0\n",
       "eyesight(left)         0\n",
       "eyesight(right)        0\n",
       "hearing(left)          0\n",
       "hearing(right)         0\n",
       "systolic               0\n",
       "relaxation             0\n",
       "fasting blood sugar    0\n",
       "Cholesterol            0\n",
       "triglyceride           0\n",
       "HDL                    0\n",
       "LDL                    0\n",
       "hemoglobin             0\n",
       "Urine protein          0\n",
       "serum creatinine       0\n",
       "AST                    0\n",
       "ALT                    0\n",
       "Gtp                    0\n",
       "dental caries          0\n",
       "smoking                0\n",
       "dtype: int64"
      ]
     },
     "execution_count": 12,
     "metadata": {},
     "output_type": "execute_result"
    }
   ],
   "source": [
    "df.isna().sum()"
   ]
  },
  {
   "cell_type": "markdown",
   "metadata": {},
   "source": [
    "##### Observation\n",
    "* There are no missing data values"
   ]
  },
  {
   "cell_type": "code",
   "execution_count": 13,
   "metadata": {},
   "outputs": [
    {
     "data": {
      "text/plain": [
       "0    24666\n",
       "1    14318\n",
       "Name: smoking, dtype: int64"
      ]
     },
     "execution_count": 13,
     "metadata": {},
     "output_type": "execute_result"
    }
   ],
   "source": [
    "df[\"smoking\"].value_counts()"
   ]
  },
  {
   "cell_type": "code",
   "execution_count": 14,
   "metadata": {},
   "outputs": [
    {
     "data": {
      "text/plain": [
       "<AxesSubplot:>"
      ]
     },
     "execution_count": 14,
     "metadata": {},
     "output_type": "execute_result"
    },
    {
     "data": {
      "image/png": "[encoded data removed]",
      "text/plain": [
       "<Figure size 432x288 with 1 Axes>"
      ]
     },
     "metadata": {
      "needs_background": "light"
     },
     "output_type": "display_data"
    }
   ],
   "source": [
    "# categorical variable\n",
    "df[\"smoking\"].value_counts().plot(kind = \"bar\")"
   ]
  },
  {
   "cell_type": "markdown",
   "metadata": {},
   "source": [
    "##### Observation\n",
    "* Data is not Balanced\n",
    "* There are more smoking status than non-smoking status\n",
    "* class imbalance will be handled. \n",
    "* Class weighting will be applied"
   ]
  },
  {
   "cell_type": "markdown",
   "metadata": {
    "id": "kvR6AlWqzFwD"
   },
   "source": [
    "# Separating Input Features and Output Features\n",
    "Before building any machine learning model, we always separate the input variables and output variables. Input variables are those quantities whose values are changed naturally in an experiment, whereas output variable is the one whose values are dependent on the input variables. So, input variables are also known as independent variables as its values are not dependent on any other quantity, and output variable/s are also known as dependent variables as its values are dependent on other variable i.e. input variables. Like here in this data, we want to predict whether the meteor is a threat to the Earth or not, so the variable **Hazardous** is our target variable and remaining features are input variable.\n",
    "\n",
    "By convention input variables are represented with 'X' and output variables are represented with 'y'."
   ]
  },
  {
   "cell_type": "code",
   "execution_count": 15,
   "metadata": {
    "id": "w7mNrWppzfW4"
   },
   "outputs": [],
   "source": [
    "X = df.drop('smoking', axis = 1)   # here we are dropping the Target feature as this is the target and 'X' is input features, the changes are not \n",
    "                                              # made inplace as we have not used 'inplace = True'\n",
    "y = df['smoking']             # Output/Dependent variable"
   ]
  },
  {
   "cell_type": "markdown",
   "metadata": {
    "id": "CwmlFaektsCL"
   },
   "source": [
    "# Splitting the data into Train and Test Set\n",
    "We want to check the performance of the model that we built. For this purpose, we always split (both input and output data) the given data into training set which will be used to train the model, and test set which will be used to check how accurately the model is predicting outcomes.\n",
    "\n",
    "For this purpose we have a class called 'train_test_split' in the 'sklearn.model_selection' module.\n"
   ]
  },
  {
   "cell_type": "code",
   "execution_count": 16,
   "metadata": {},
   "outputs": [],
   "source": [
    "def transform_data(X, y = None):\n",
    "    \"\"\"\n",
    "    function helps to transform data into a form that Pipeline takes\n",
    "    \"\"\"\n",
    "    X = pd.DataFrame(X)\n",
    "    new_X = []\n",
    "    new_y = []\n",
    "    for i in range(len(X)):\n",
    "        data = {}\n",
    "        for key in X.columns:\n",
    "            data[key] = X[key].iloc[i]\n",
    "        new_X.append(data)\n",
    "\n",
    "    # transform y if y is given\n",
    "    if type(y) != type(None):\n",
    "        for i in range(len(y)):\n",
    "            if y[i] == 0:\n",
    "                new_y.append(\"no\")\n",
    "            else:\n",
    "                new_y.append(\"yes\")\n",
    "            \n",
    "    return new_X, new_y\n",
    "\n"
   ]
  },
  {
   "cell_type": "code",
   "execution_count": 17,
   "metadata": {
    "id": "IgYLbVk_Qcqa"
   },
   "outputs": [],
   "source": [
    "#train test split. Its not necessary to keep a large percentage for \n",
    "#testing since cross validation will be used to evaluate model\n",
    "X_train, X_test, y_train, y_test = train_test_split(np.array(X), np.array(y), test_size=0.1)\n",
    "\n",
    "X_temp = X_train\n",
    "y_temp = y_train\n",
    "\n",
    "X_train, y_train = transform_data(X_temp, y_temp)\n",
    "X_test, y_test = transform_data(X_test, y_test)"
   ]
  },
  {
   "cell_type": "markdown",
   "metadata": {
    "id": "Fr16AzpqtECh"
   },
   "source": [
    "# Building Model\n",
    "Now we are finally ready, and we can train the model.\n",
    "\n",
    "* Train a baseline model: Random Forest \n",
    "* Find Class weights\n",
    "* We will try several machine learning models and select the best\n",
    "* Next we will try several feature selection technique using the best model and select the best feature selection method\n",
    "* Next we will optimize model through hyper parameter tunning using grid search\n",
    "* Next we will test model our kept test set\n",
    "* Use model to make predictions"
   ]
  },
  {
   "cell_type": "markdown",
   "metadata": {
    "id": "IVVBMkkUunvk"
   },
   "source": [
    "### Train BaseLine model"
   ]
  },
  {
   "cell_type": "code",
   "execution_count": 18,
   "metadata": {},
   "outputs": [
    {
     "name": "stdout",
     "output_type": "stream",
     "text": [
      "Score :  0.8061041292639138\n",
      "7.376790523529053  secs\n"
     ]
    }
   ],
   "source": [
    "# Build pipeline and test a support vector classifier with no PCA\n",
    "from sklearn.ensemble import RandomForestClassifier\n",
    "from time import time\n",
    "start = time()\n",
    "model = Pipeline([\n",
    "            ('vect', DictVectorizer(sparse=False)),\n",
    "            ('scaler', StandardScaler()),\n",
    "            ('clf', RandomForestClassifier(random_state = 42))\n",
    "        ])\n",
    "\n",
    "model.fit(X_train, y_train)\n",
    "score = model.score(X_test, y_test)\n",
    "print(\"Score : \",score)\n",
    "\n",
    "stop = time()\n",
    "\n",
    "print(stop - start, \" secs\")"
   ]
  },
  {
   "cell_type": "code",
   "execution_count": 19,
   "metadata": {
    "scrolled": true
   },
   "outputs": [
    {
     "name": "stdout",
     "output_type": "stream",
     "text": [
      "K-Fold test: [0.79880308 0.80849245 0.80022799 0.80222286 0.79424337 0.79732041\n",
      " 0.81299886 0.80872292 0.79732041 0.80188141]\n",
      "Mean: 0.802\n",
      "Std: 0.006\n"
     ]
    }
   ],
   "source": [
    "# Build pipeline and test a support vector classifier with no PCA\n",
    "model = Pipeline([\n",
    "            ('vect', DictVectorizer(sparse=False)),\n",
    "            ('scaler', StandardScaler()),\n",
    "            ('clf', RandomForestClassifier(random_state = 42))\n",
    "        ])\n",
    "# 10-fold cross validation Can play with n_splits parameter\n",
    "kf = StratifiedKFold(n_splits=10, shuffle=True, random_state=42)\n",
    "\n",
    "# Print output\n",
    "scores = cross_val_score(model, X_train, y_train, cv=kf, n_jobs=None, scoring='f1_micro')\n",
    "print(f'K-Fold test: {scores}')\n",
    "print(f'Mean: {scores.mean().round(3)}')\n",
    "print(f'Std: {scores.std().round(3)}')\n"
   ]
  },
  {
   "cell_type": "markdown",
   "metadata": {},
   "source": [
    "Model generalizes fairly well with standard deviaiton of 0.6%. "
   ]
  },
  {
   "cell_type": "markdown",
   "metadata": {},
   "source": [
    "### Find Class Weights"
   ]
  },
  {
   "cell_type": "code",
   "execution_count": 20,
   "metadata": {},
   "outputs": [],
   "source": [
    "# The non-smoking class is approximately double the smoking class. \n",
    "# Therefore we can penalize the smoking class twice\n",
    "class_weight = {\"no\":1, \"yes\": 2}"
   ]
  },
  {
   "cell_type": "code",
   "execution_count": 21,
   "metadata": {},
   "outputs": [
    {
     "data": {
      "text/plain": [
       "0.8099512695562965"
      ]
     },
     "execution_count": 21,
     "metadata": {},
     "output_type": "execute_result"
    }
   ],
   "source": [
    "# Build pipeline and test a support vector classifier with no PCA\n",
    "from sklearn.ensemble import RandomForestClassifier\n",
    "model = Pipeline([\n",
    "            ('vect', DictVectorizer(sparse=False)),\n",
    "            ('scaler', StandardScaler()),\n",
    "            ('clf', RandomForestClassifier(class_weight = class_weight, random_state = 42))\n",
    "        ])\n",
    "\n",
    "model.fit(X_train, y_train)\n",
    "score = model.score(X_test, y_test)\n",
    "score"
   ]
  },
  {
   "cell_type": "markdown",
   "metadata": {},
   "source": [
    "Class weighting slightly increased results"
   ]
  },
  {
   "cell_type": "markdown",
   "metadata": {},
   "source": [
    "### DownSampling"
   ]
  },
  {
   "cell_type": "code",
   "execution_count": 22,
   "metadata": {},
   "outputs": [],
   "source": [
    "from sklearn.utils import resample\n",
    "# The non-smoking class is reduced to match the number of samples in the smoking class\n",
    "df_0 = df[df[\"smoking\"] == 0]\n",
    "df_1 = df[df[\"smoking\"] == 1]\n",
    "\n",
    "df_0_downsample = resample(df_0,\n",
    "             replace=True,\n",
    "             n_samples=len(df_1),\n",
    "             random_state=42)\n",
    "\n",
    "new_df = pd.concat([df_0_downsample, df_1], axis = 0).reset_index().drop(columns = [\"index\"])"
   ]
  },
  {
   "cell_type": "code",
   "execution_count": 23,
   "metadata": {},
   "outputs": [
    {
     "data": {
      "text/plain": [
       "<AxesSubplot:>"
      ]
     },
     "execution_count": 23,
     "metadata": {},
     "output_type": "execute_result"
    },
    {
     "data": {
      "image/png": "[encoded data removed]",
      "text/plain": [
       "<Figure size 432x288 with 1 Axes>"
      ]
     },
     "metadata": {
      "needs_background": "light"
     },
     "output_type": "display_data"
    }
   ],
   "source": [
    "# \n",
    "new_df[\"smoking\"].value_counts().plot(kind = \"bar\")"
   ]
  },
  {
   "cell_type": "code",
   "execution_count": 24,
   "metadata": {},
   "outputs": [],
   "source": [
    "X = new_df.drop('smoking', axis = 1)   # here we are dropping the Target feature as this is the target and 'X' is input features, the changes are not                                              # made inplace as we have not used 'inplace = True'\n",
    "y = new_df['smoking']             # Output/Dependent variable\n",
    "\n",
    "X_train, X_test, y_train, y_test = train_test_split(np.array(X), np.array(y), test_size=0.1)\n",
    "X_temp = X_train\n",
    "y_temp = y_train\n",
    "\n",
    "X_train, y_train = transform_data(X_temp, y_temp)\n",
    "X_test, y_test = transform_data(X_test, y_test)"
   ]
  },
  {
   "cell_type": "code",
   "execution_count": 25,
   "metadata": {},
   "outputs": [
    {
     "name": "stdout",
     "output_type": "stream",
     "text": [
      "Train 25772\n",
      "Test 2864\n"
     ]
    }
   ],
   "source": [
    "print(\"Train\",len(X_train))\n",
    "print(\"Test\",len(X_test))"
   ]
  },
  {
   "cell_type": "code",
   "execution_count": 26,
   "metadata": {},
   "outputs": [
    {
     "name": "stdout",
     "output_type": "stream",
     "text": [
      "K-Fold test: [0.84096199 0.8386346  0.8451688  0.84904928 0.83934808 0.85758634\n",
      " 0.84710904 0.84827319 0.83973613 0.8451688 ]\n",
      "Mean: 0.845\n",
      "Std: 0.006\n"
     ]
    }
   ],
   "source": [
    "model = Pipeline([\n",
    "            ('vect', DictVectorizer(sparse=False)),\n",
    "            ('scaler', StandardScaler()),\n",
    "            ('clf', RandomForestClassifier(random_state = 42))\n",
    "        ])\n",
    "# 10-fold cross validation Can play with n_splits parameter\n",
    "kf = StratifiedKFold(n_splits=10, shuffle=True, random_state=42)\n",
    "\n",
    "# Print output\n",
    "scores = cross_val_score(model, X_train, y_train, cv=kf, n_jobs=None, scoring='f1_micro')\n",
    "print(f'K-Fold test: {scores}')\n",
    "print(f'Mean: {scores.mean().round(3)}')\n",
    "print(f'Std: {scores.std().round(3)}')"
   ]
  },
  {
   "cell_type": "code",
   "execution_count": 27,
   "metadata": {},
   "outputs": [
    {
     "name": "stdout",
     "output_type": "stream",
     "text": [
      "Score :  0.8652234636871509\n"
     ]
    }
   ],
   "source": [
    "## Training model on \n",
    "model = Pipeline([\n",
    "            ('vect', DictVectorizer(sparse=False)),\n",
    "            ('scaler', StandardScaler()),\n",
    "            ('clf', RandomForestClassifier(random_state = 42))\n",
    "        ])\n",
    "\n",
    "model.fit(X_train, y_train)\n",
    "score = model.score(X_test, y_test)\n",
    "print(\"Score : \",score)"
   ]
  },
  {
   "cell_type": "markdown",
   "metadata": {},
   "source": [
    "##### Observations\n",
    "* Downsampling grately improved model performance"
   ]
  },
  {
   "cell_type": "markdown",
   "metadata": {},
   "source": [
    "### Model  Selection\n",
    "Many classifiers are tried. This section will take several minutes\n",
    "from getModel import get_modelK-fold cross validation is performed to accurately select the best model from the list of classifiers"
   ]
  },
  {
   "cell_type": "code",
   "execution_count": 28,
   "metadata": {},
   "outputs": [
    {
     "name": "stdout",
     "output_type": "stream",
     "text": [
      "RandomForestClassifier mean score of 0.845\n",
      "XGBClassifier mean score of 0.793\n",
      "GradientBoostingClassifier mean score of 0.755\n",
      "KNeighborsClassifier mean score of 0.727\n",
      "MLPClassifier mean score of 0.754\n",
      "LogisticRegression mean score of 0.73\n",
      "SGDClassifier mean score of 0.732\n",
      "AdaBoostClassifier mean score of 0.747\n",
      "VotingClassifier mean score of 0.777\n",
      "SVC mean score of 0.755\n",
      "Best Model is RandomForestClassifier with a mean score of 0.8451036245018819\n",
      "3272.416741132736  secs exec time\n"
     ]
    }
   ],
   "source": [
    "from getModel import get_model\n",
    "start = time()\n",
    "classifiers = [\"RandomForestClassifier\",\"XGBClassifier\",\"GradientBoostingClassifier\", \"KNeighborsClassifier\", \"MLPClassifier\",\"LogisticRegression\", \n",
    "               \"SGDClassifier\",\"AdaBoostClassifier\",\"VotingClassifier\", \"SVC\"]\n",
    "\n",
    "best_model = \"\"\n",
    "best_score = 0\n",
    "\n",
    "#model performance report\n",
    "\n",
    "\n",
    "for classifier in classifiers:\n",
    "    model = get_model(classifier)\n",
    "    \n",
    "    # XGBClassifier behaves differently with Pipeline\n",
    "    \n",
    "    if classifier == \"XGBClassifier\":\n",
    "        \n",
    "        pipeline = Pipeline([\n",
    "                    #('vect', DictVectorizer(sparse=False)),\n",
    "                    ('scaler', StandardScaler()),\n",
    "                    ('clf', model)\n",
    "                ])\n",
    "        X_data, y_data = X_temp, y_temp\n",
    "        \n",
    "    else:\n",
    "        pipeline = Pipeline([\n",
    "                    ('vect', DictVectorizer(sparse=False)),\n",
    "                    ('scaler', StandardScaler()),\n",
    "                    ('clf', model)\n",
    "                ])\n",
    "        X_data, y_data = X_train, y_train\n",
    "    # 10-fold cross validation Can play with n_splits parameter\n",
    "    kf = StratifiedKFold(n_splits=10, shuffle=True, random_state=42)\n",
    "\n",
    "    # Print output\n",
    "    scores = cross_val_score(pipeline, X_data, y_data, cv=kf, n_jobs=None, scoring='f1_micro')\n",
    "    print(\"{} mean score of {}\".format(classifier, scores.mean().round(3)))\n",
    "    \n",
    "    if scores.mean() > best_score:\n",
    "        best_score = scores.mean()\n",
    "        best_model = classifier\n",
    "        \n",
    "print(\"Best Model is {} with a mean score of {}\".format(best_model, best_score))\n",
    "\n",
    "stop = time()\n",
    "\n",
    "print(stop - start, \" secs exec time\")"
   ]
  },
  {
   "cell_type": "markdown",
   "metadata": {},
   "source": [
    "### Model Optimization"
   ]
  },
  {
   "cell_type": "code",
   "execution_count": 29,
   "metadata": {},
   "outputs": [
    {
     "name": "stdout",
     "output_type": "stream",
     "text": [
      "{'n_estimators': [100, 300, 500], 'max_features': ['auto', 'sqrt'], 'max_depth': [30, 90, None]}\n"
     ]
    }
   ],
   "source": [
    "from sklearn.ensemble import RandomForestClassifier\n",
    "# Number of trees in random forest\n",
    "n_estimators = [100,300, 500]\n",
    "# Number of features to consider at every split\n",
    "max_features = ['auto','sqrt']\n",
    "# Maximum number of levels in tree\n",
    "max_depth = [30,90,None]\n",
    "\n",
    "# Create the random grid\n",
    "random_grid = {'n_estimators': n_estimators,\n",
    "               'max_features': max_features,\n",
    "               'max_depth': max_depth}\n",
    "print(random_grid)"
   ]
  },
  {
   "cell_type": "code",
   "execution_count": 30,
   "metadata": {
    "scrolled": false
   },
   "outputs": [
    {
     "name": "stdout",
     "output_type": "stream",
     "text": [
      "2187.068182706833  secs exec time\n"
     ]
    }
   ],
   "source": [
    "start = time()\n",
    "# Use the random grid to search for best hyperparameters\n",
    "# First create the base model to tune\n",
    "rf = RandomForestClassifier()\n",
    "# Random search of parameters, using 3 fold cross validation, \n",
    "# search across 100 different combinations, and use all available cores\n",
    "kf = StratifiedKFold(n_splits=10, shuffle=True, random_state=42)\n",
    "rf_random = GridSearchCV(estimator = rf, param_grid = random_grid,cv = kf,n_jobs = None)\n",
    "# Fit the random search model\n",
    "rf_random.fit(X_temp, y_temp)\n",
    "\n",
    "stop = time()\n",
    "print(stop - start, \" secs exec time\")"
   ]
  },
  {
   "cell_type": "code",
   "execution_count": 31,
   "metadata": {},
   "outputs": [
    {
     "data": {
      "text/plain": [
       "{'max_depth': 30, 'max_features': 'sqrt', 'n_estimators': 300}"
      ]
     },
     "execution_count": 31,
     "metadata": {},
     "output_type": "execute_result"
    }
   ],
   "source": [
    "best_params = rf_random.best_params_\n",
    "best_params"
   ]
  },
  {
   "cell_type": "code",
   "execution_count": 32,
   "metadata": {},
   "outputs": [
    {
     "name": "stdout",
     "output_type": "stream",
     "text": [
      "K-Fold test: [0.84212568 0.84212568 0.84128832 0.84827319 0.8443927  0.86069073\n",
      " 0.85060147 0.84866123 0.83740784 0.84672099]\n",
      "Mean: 0.846\n",
      "Std: 0.006\n"
     ]
    }
   ],
   "source": [
    "# Test Model with Best Params\n",
    "model = Pipeline([\n",
    "            ('vect', DictVectorizer(sparse=False)),\n",
    "            ('scaler', StandardScaler()),\n",
    "            ('clf', RandomForestClassifier(random_state = 42, \n",
    "                                           n_estimators = best_params['n_estimators'],\n",
    "                                          max_features = best_params[\"max_features\"], \n",
    "                                          max_depth = best_params['max_depth']))\n",
    "        ])\n",
    "# 10-fold cross validation Can play with n_splits parameter\n",
    "kf = StratifiedKFold(n_splits=10, shuffle=True, random_state=42)\n",
    "\n",
    "# Print output\n",
    "scores = cross_val_score(model, X_train, y_train, cv=kf, n_jobs=None, scoring='f1_micro')\n",
    "print(f'K-Fold test: {scores}')\n",
    "print(f'Mean: {scores.mean().round(3)}')\n",
    "print(f'Std: {scores.std().round(3)}')"
   ]
  },
  {
   "cell_type": "markdown",
   "metadata": {},
   "source": [
    "### Feature Selection"
   ]
  },
  {
   "cell_type": "code",
   "execution_count": 33,
   "metadata": {},
   "outputs": [
    {
     "name": "stdout",
     "output_type": "stream",
     "text": [
      "pca  :  0.842\n",
      "truncatedSVD  :  0.791\n",
      "varianceThreshold  :  0.846\n",
      "selectFromModel  :  0.834\n",
      "anova  :  0.842\n",
      "no_feature_selection  :  0.846\n",
      "  :  0.846\n",
      "910.0783545970917  secs exec time\n"
     ]
    }
   ],
   "source": [
    "from sklearn.decomposition import PCA, TruncatedSVD\n",
    "from sklearn.feature_selection import VarianceThreshold, SelectFromModel\n",
    "from sklearn.feature_selection import SelectKBest, f_classif\n",
    "\n",
    "start = time()\n",
    "feature_selection_methods = {\"pca\" : PCA(), \n",
    "                             \"truncatedSVD\" : TruncatedSVD(),\n",
    "                             \"varianceThreshold\" : VarianceThreshold(threshold=(.8 * (1 - .8))), \n",
    "                             \"selectFromModel\" : SelectFromModel(LinearSVC(penalty=\"l2\")), \n",
    "                             \"anova\" : SelectKBest(f_classif),\n",
    "                             \"no_feature_selection\" : None}\n",
    "\n",
    "best_selection_method = \"\"\n",
    "best_score = 0\n",
    "\n",
    "for selection_method, selection_model in feature_selection_methods.items():\n",
    "    \n",
    "    model = Pipeline([\n",
    "                ('vect', DictVectorizer(sparse=False)),\n",
    "                ('scaler', StandardScaler()),\n",
    "                (\"feature selection\", selection_model),\n",
    "                ('clf', RandomForestClassifier(random_state = 42, \n",
    "                                           n_estimators = best_params['n_estimators'],\n",
    "                                          max_features = best_params[\"max_features\"], \n",
    "                                          max_depth = best_params['max_depth']))\n",
    "            ])\n",
    "    # 10-fold cross validation Can play with n_splits parameter\n",
    "    kf = StratifiedKFold(n_splits=10, shuffle=True, random_state=42)\n",
    "\n",
    "    # Print output\n",
    "    scores = cross_val_score(model, X_train, y_train, cv=kf, n_jobs=None, scoring='f1_micro')\n",
    "    \n",
    "    if scores.mean() > best_score:\n",
    "        best_score = scores.mean().round(3)\n",
    "        best_selection_method = selection_method\n",
    "\n",
    "    print(selection_method,\" : \", scores.mean().round(3))\n",
    "print(best_selection_method, \" : \", best_score)\n",
    "\n",
    "stop = time()\n",
    "print(stop - start, \" secs exec time\")"
   ]
  },
  {
   "cell_type": "markdown",
   "metadata": {},
   "source": [
    "### Model Evaluation"
   ]
  },
  {
   "cell_type": "code",
   "execution_count": 64,
   "metadata": {},
   "outputs": [],
   "source": [
    "selection_model = feature_selection_methods[best_selection_method]\n",
    "model = Pipeline([\n",
    "                ('vect', DictVectorizer(sparse=False)),\n",
    "                ('scaler', StandardScaler()),\n",
    "                (\"feature selection\", selection_model),\n",
    "                ('clf', RandomForestClassifier(random_state = 42, \n",
    "                                           n_estimators = best_params['n_estimators'],\n",
    "                                          max_features = best_params[\"max_features\"], \n",
    "                                          max_depth = best_params['max_depth']))\n",
    "            ])\n",
    "# 10-fold cross validation Can play with n_splits parameter\n",
    "model.fit(X_train,y_train)\n",
    "\n",
    "import pickle\n",
    "pickle.dump(model, open(\"smoking_randomforestclassifier.sav\", 'wb'))\n"
   ]
  },
  {
   "cell_type": "code",
   "execution_count": 65,
   "metadata": {
    "id": "KgRfIAJP9RNZ"
   },
   "outputs": [
    {
     "name": "stdout",
     "output_type": "stream",
     "text": [
      "              precision    recall  f1-score   support\n",
      "\n",
      "          no       0.91      0.81      0.86      1429\n",
      "         yes       0.83      0.92      0.88      1435\n",
      "\n",
      "    accuracy                           0.87      2864\n",
      "   macro avg       0.87      0.87      0.87      2864\n",
      "weighted avg       0.87      0.87      0.87      2864\n",
      "\n"
     ]
    }
   ],
   "source": [
    "from sklearn.metrics import classification_report\n",
    "y_true = y_test\n",
    "# predict on test data\n",
    "y_pred =  model.predict(X_test)\n",
    "target_names = [\"no\", \"yes\"]\n",
    "print(classification_report(y_true, y_pred, target_names=target_names))"
   ]
  },
  {
   "cell_type": "markdown",
   "metadata": {
    "id": "Yyxr6KaSwfmI"
   },
   "source": [
    "## Load Test Set\n",
    "Load the test data on which final submission is to be made."
   ]
  },
  {
   "cell_type": "code",
   "execution_count": 86,
   "metadata": {
    "id": "LjRc151Cwa1p"
   },
   "outputs": [],
   "source": [
    "test_data = pd.read_csv(r'test_dataset.csv')"
   ]
  },
  {
   "cell_type": "markdown",
   "metadata": {
    "id": "JBfDu49swopQ"
   },
   "source": [
    "**Note:** \n",
    "*  Use the same techniques to deal with missing values as done with the training dataset.   \n",
    "\n",
    "*  **Don't remove any observation/record from the test dataset otherwise you will get wrong answer. The number of items in your prediction should be same as the number of records are present in the test dataset**.\n",
    "\n",
    "*  Use the same techniques to preprocess the data as done with training dataset.\n",
    "\n",
    "***Why do we need to do the same procedure of filling missing values, data cleaning and data preprocessing on the new test data as it was done for the training and validation data?***\n",
    "\n",
    "**Ans:** Because our model has been trained on certain format of data and if we don't provide the testing data of the similar format, the model will give erroneous predictions and the rmse of the model will increase. Also, if the model was build on 'n' number of features, while predicting on new test data you should always give the same number of features to the model. In this case if you provide different number of features while predicting the output, your ML model will throw a ValueError saying something like 'number of features given x; expecting n'. Not confident about these statements? Well, as a data scientist you should always perform some experiment and observe the results.\n",
    "\n"
   ]
  },
  {
   "cell_type": "code",
   "execution_count": 87,
   "metadata": {
    "colab": {
     "base_uri": "https://localhost:8080/",
     "height": 317
    },
    "id": "5zF7me-ewpWu",
    "outputId": "1dd94fa0-a82c-46ef-f1c2-4e253cfc6a3c"
   },
   "outputs": [
    {
     "data": {
      "text/html": [
       "<div>\n",
       "<style scoped>\n",
       "    .dataframe tbody tr th:only-of-type {\n",
       "        vertical-align: middle;\n",
       "    }\n",
       "\n",
       "    .dataframe tbody tr th {\n",
       "        vertical-align: top;\n",
       "    }\n",
       "\n",
       "    .dataframe thead th {\n",
       "        text-align: right;\n",
       "    }\n",
       "</style>\n",
       "<table border=\"1\" class=\"dataframe\">\n",
       "  <thead>\n",
       "    <tr style=\"text-align: right;\">\n",
       "      <th></th>\n",
       "      <th>age</th>\n",
       "      <th>height(cm)</th>\n",
       "      <th>weight(kg)</th>\n",
       "      <th>waist(cm)</th>\n",
       "      <th>eyesight(left)</th>\n",
       "      <th>eyesight(right)</th>\n",
       "      <th>hearing(left)</th>\n",
       "      <th>hearing(right)</th>\n",
       "      <th>systolic</th>\n",
       "      <th>relaxation</th>\n",
       "      <th>...</th>\n",
       "      <th>triglyceride</th>\n",
       "      <th>HDL</th>\n",
       "      <th>LDL</th>\n",
       "      <th>hemoglobin</th>\n",
       "      <th>Urine protein</th>\n",
       "      <th>serum creatinine</th>\n",
       "      <th>AST</th>\n",
       "      <th>ALT</th>\n",
       "      <th>Gtp</th>\n",
       "      <th>dental caries</th>\n",
       "    </tr>\n",
       "  </thead>\n",
       "  <tbody>\n",
       "    <tr>\n",
       "      <th>0</th>\n",
       "      <td>40</td>\n",
       "      <td>170</td>\n",
       "      <td>65</td>\n",
       "      <td>75.1</td>\n",
       "      <td>1.0</td>\n",
       "      <td>0.9</td>\n",
       "      <td>1</td>\n",
       "      <td>1</td>\n",
       "      <td>120</td>\n",
       "      <td>70</td>\n",
       "      <td>...</td>\n",
       "      <td>260</td>\n",
       "      <td>41</td>\n",
       "      <td>132</td>\n",
       "      <td>15.7</td>\n",
       "      <td>1</td>\n",
       "      <td>0.8</td>\n",
       "      <td>24</td>\n",
       "      <td>26</td>\n",
       "      <td>32</td>\n",
       "      <td>0</td>\n",
       "    </tr>\n",
       "    <tr>\n",
       "      <th>1</th>\n",
       "      <td>45</td>\n",
       "      <td>170</td>\n",
       "      <td>75</td>\n",
       "      <td>89.0</td>\n",
       "      <td>0.7</td>\n",
       "      <td>1.2</td>\n",
       "      <td>1</td>\n",
       "      <td>1</td>\n",
       "      <td>100</td>\n",
       "      <td>67</td>\n",
       "      <td>...</td>\n",
       "      <td>345</td>\n",
       "      <td>49</td>\n",
       "      <td>140</td>\n",
       "      <td>15.7</td>\n",
       "      <td>1</td>\n",
       "      <td>1.1</td>\n",
       "      <td>26</td>\n",
       "      <td>28</td>\n",
       "      <td>138</td>\n",
       "      <td>0</td>\n",
       "    </tr>\n",
       "    <tr>\n",
       "      <th>2</th>\n",
       "      <td>30</td>\n",
       "      <td>180</td>\n",
       "      <td>90</td>\n",
       "      <td>94.0</td>\n",
       "      <td>1.0</td>\n",
       "      <td>0.8</td>\n",
       "      <td>1</td>\n",
       "      <td>1</td>\n",
       "      <td>115</td>\n",
       "      <td>72</td>\n",
       "      <td>...</td>\n",
       "      <td>103</td>\n",
       "      <td>53</td>\n",
       "      <td>103</td>\n",
       "      <td>13.5</td>\n",
       "      <td>1</td>\n",
       "      <td>1.0</td>\n",
       "      <td>19</td>\n",
       "      <td>29</td>\n",
       "      <td>30</td>\n",
       "      <td>0</td>\n",
       "    </tr>\n",
       "    <tr>\n",
       "      <th>3</th>\n",
       "      <td>60</td>\n",
       "      <td>170</td>\n",
       "      <td>50</td>\n",
       "      <td>73.0</td>\n",
       "      <td>0.5</td>\n",
       "      <td>0.7</td>\n",
       "      <td>1</td>\n",
       "      <td>1</td>\n",
       "      <td>118</td>\n",
       "      <td>78</td>\n",
       "      <td>...</td>\n",
       "      <td>70</td>\n",
       "      <td>65</td>\n",
       "      <td>108</td>\n",
       "      <td>14.1</td>\n",
       "      <td>1</td>\n",
       "      <td>1.3</td>\n",
       "      <td>31</td>\n",
       "      <td>28</td>\n",
       "      <td>33</td>\n",
       "      <td>0</td>\n",
       "    </tr>\n",
       "    <tr>\n",
       "      <th>4</th>\n",
       "      <td>30</td>\n",
       "      <td>170</td>\n",
       "      <td>65</td>\n",
       "      <td>78.0</td>\n",
       "      <td>1.5</td>\n",
       "      <td>1.0</td>\n",
       "      <td>1</td>\n",
       "      <td>1</td>\n",
       "      <td>110</td>\n",
       "      <td>70</td>\n",
       "      <td>...</td>\n",
       "      <td>210</td>\n",
       "      <td>45</td>\n",
       "      <td>103</td>\n",
       "      <td>14.7</td>\n",
       "      <td>1</td>\n",
       "      <td>0.8</td>\n",
       "      <td>21</td>\n",
       "      <td>21</td>\n",
       "      <td>19</td>\n",
       "      <td>0</td>\n",
       "    </tr>\n",
       "  </tbody>\n",
       "</table>\n",
       "<p>5 rows × 22 columns</p>\n",
       "</div>"
      ],
      "text/plain": [
       "   age  height(cm)  weight(kg)  waist(cm)  eyesight(left)  eyesight(right)  \\\n",
       "0   40         170          65       75.1             1.0              0.9   \n",
       "1   45         170          75       89.0             0.7              1.2   \n",
       "2   30         180          90       94.0             1.0              0.8   \n",
       "3   60         170          50       73.0             0.5              0.7   \n",
       "4   30         170          65       78.0             1.5              1.0   \n",
       "\n",
       "   hearing(left)  hearing(right)  systolic  relaxation  ...  triglyceride  \\\n",
       "0              1               1       120          70  ...           260   \n",
       "1              1               1       100          67  ...           345   \n",
       "2              1               1       115          72  ...           103   \n",
       "3              1               1       118          78  ...            70   \n",
       "4              1               1       110          70  ...           210   \n",
       "\n",
       "   HDL  LDL  hemoglobin  Urine protein  serum creatinine  AST  ALT  Gtp  \\\n",
       "0   41  132        15.7              1               0.8   24   26   32   \n",
       "1   49  140        15.7              1               1.1   26   28  138   \n",
       "2   53  103        13.5              1               1.0   19   29   30   \n",
       "3   65  108        14.1              1               1.3   31   28   33   \n",
       "4   45  103        14.7              1               0.8   21   21   19   \n",
       "\n",
       "   dental caries  \n",
       "0              0  \n",
       "1              0  \n",
       "2              0  \n",
       "3              0  \n",
       "4              0  \n",
       "\n",
       "[5 rows x 22 columns]"
      ]
     },
     "execution_count": 87,
     "metadata": {},
     "output_type": "execute_result"
    }
   ],
   "source": [
    "test_data.head()"
   ]
  },
  {
   "cell_type": "code",
   "execution_count": 88,
   "metadata": {
    "colab": {
     "base_uri": "https://localhost:8080/"
    },
    "id": "_p1VzAP6q6uL",
    "outputId": "26d30559-30c3-404b-94a9-d8d579961995"
   },
   "outputs": [
    {
     "data": {
      "text/plain": [
       "age                    0\n",
       "height(cm)             0\n",
       "weight(kg)             0\n",
       "waist(cm)              0\n",
       "eyesight(left)         0\n",
       "eyesight(right)        0\n",
       "hearing(left)          0\n",
       "hearing(right)         0\n",
       "systolic               0\n",
       "relaxation             0\n",
       "fasting blood sugar    0\n",
       "Cholesterol            0\n",
       "triglyceride           0\n",
       "HDL                    0\n",
       "LDL                    0\n",
       "hemoglobin             0\n",
       "Urine protein          0\n",
       "serum creatinine       0\n",
       "AST                    0\n",
       "ALT                    0\n",
       "Gtp                    0\n",
       "dental caries          0\n",
       "dtype: int64"
      ]
     },
     "execution_count": 88,
     "metadata": {},
     "output_type": "execute_result"
    }
   ],
   "source": [
    "test_data.isna().sum()"
   ]
  },
  {
   "cell_type": "markdown",
   "metadata": {
    "id": "Myh_i9lDxSh3"
   },
   "source": [
    "## Make Prediction on Test Dataset\n",
    "Time to make submission!!!"
   ]
  },
  {
   "cell_type": "code",
   "execution_count": 89,
   "metadata": {
    "id": "RvmNRfsHxRsR"
   },
   "outputs": [],
   "source": [
    "X_new_test, _ = transform_data(np.array(test_data))\n",
    "target = model.predict(X_new_test)"
   ]
  },
  {
   "cell_type": "code",
   "execution_count": 90,
   "metadata": {},
   "outputs": [
    {
     "data": {
      "text/plain": [
       "array([1, 1, 1, ..., 0, 1, 1], dtype=uint8)"
      ]
     },
     "execution_count": 90,
     "metadata": {},
     "output_type": "execute_result"
    }
   ],
   "source": [
    "target[target == \"yes\"] = 1\n",
    "target[target == \"no\"] = 0\n",
    "target = target.astype(\"uint8\")\n",
    "target"
   ]
  },
  {
   "cell_type": "markdown",
   "metadata": {
    "id": "lDuRb3v6xZw4"
   },
   "source": [
    "#### Note: **Follow the submission guidelines given in 'How To Submit' Section.**"
   ]
  },
  {
   "cell_type": "markdown",
   "metadata": {
    "id": "siih9L-Fxfms"
   },
   "source": [
    "## How to save prediciton results locally via jupyter notebook?\n",
    "If you are working on Jupyter notebook, execute below block of codes. A file named 'prediction_results.csv' will be created in your current working directory."
   ]
  },
  {
   "cell_type": "code",
   "execution_count": 91,
   "metadata": {
    "id": "qvfit3i7xabj"
   },
   "outputs": [],
   "source": [
    "#target = pd.read_csv(r'test_ans.csv')\n",
    "res = pd.DataFrame(target) #target is nothing but the final predictions of your model on input features of your new unseen test data\n",
    "res.columns = [\"smoking\"]\n",
    "res.to_csv(\"submission.csv\", index = False)      # the csv file will be saved locally on the same location where this notebook is located."
   ]
  },
  {
   "cell_type": "markdown",
   "metadata": {
    "id": "RvfGFeQmx85z"
   },
   "source": [
    "## **Well Done! 👍**\n",
    "You are all set to make a submission. Let's head to the challenge page to make the submission."
   ]
  },
  {
   "cell_type": "code",
   "execution_count": null,
   "metadata": {},
   "outputs": [],
   "source": []
  }
 ],
 "metadata": {
  "colab": {
   "collapsed_sections": [],
   "name": "DPhi_Sprint_74_Smoking_Status_Prediction.ipynb",
   "provenance": []
  },
  "kernelspec": {
   "display_name": "Python 3 (ipykernel)",
   "language": "python",
   "name": "python3"
  },
  "language_info": {
   "codemirror_mode": {
    "name": "ipython",
    "version": 3
   },
   "file_extension": ".py",
   "mimetype": "text/x-python",
   "name": "python",
   "nbconvert_exporter": "python",
   "pygments_lexer": "ipython3",
   "version": "3.7.13"
  }
 },
 "nbformat": 4,
 "nbformat_minor": 1
}
